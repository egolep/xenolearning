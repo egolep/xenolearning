{
 "cells": [
  {
   "cell_type": "markdown",
   "id": "8077305b-f6db-48e5-a072-43594333767b",
   "metadata": {},
   "source": [
    "# <big><b>Intermezzo: breve e schifosa introduzione alla programmazione</b></big>\n"
   ]
  },
  {
   "cell_type": "markdown",
   "id": "bb67670d-9dbb-408a-b809-187dba353c9f",
   "metadata": {},
   "source": [
    "ovvero: intanto vi faccio vedere quello che normalmente si fa in un semestre universitario in 10 minuti  "
   ]
  },
  {
   "cell_type": "markdown",
   "id": "c590ce5b-3e56-4b18-af3d-0e2e28b605ac",
   "metadata": {},
   "source": [
    "ovvero: nessunə capirà un cazzo"
   ]
  },
  {
   "cell_type": "markdown",
   "id": "1507112a-ba11-4c21-8982-375863a0a4cf",
   "metadata": {},
   "source": [
    "# <b>Capitolo 1</b>: basi e `if`"
   ]
  },
  {
   "cell_type": "code",
   "execution_count": 2,
   "id": "135bcc18-81b9-4ba3-9e6b-3b1d244a57d1",
   "metadata": {},
   "outputs": [
    {
     "name": "stdout",
     "output_type": "stream",
     "text": [
      "0\n",
      "Che vita di merda\n",
      "Mannaggia Mannaggia Mannaggia \n"
     ]
    }
   ],
   "source": [
    "fucks_given = 0\n",
    "println(fucks_given)\n",
    "\n",
    "# arriva la bolletta dell'acqua: 150 bombe\n",
    "fucks_given = fucks_given + 1\n",
    "# arriva anche la TARI: due rate da 137 euro\n",
    "fucks_given += 2\n",
    "\n",
    "if fucks_given > 0\n",
    "    println(\"Che vita di merda\")\n",
    "end\n",
    "\n",
    "curses_amount = \"Mannaggia \" ^ fucks_given\n",
    "println(curses_amount)"
   ]
  },
  {
   "cell_type": "markdown",
   "id": "5599d020-fbfa-475f-ad91-4ec950bceac4",
   "metadata": {},
   "source": [
    "## È già successa un sacco di roba."
   ]
  },
  {
   "cell_type": "markdown",
   "id": "ae4e2998-7f4a-4b69-8fd3-5d3bc4b8708b",
   "metadata": {},
   "source": [
    "Ripercorriamo i vari passaggi"
   ]
  },
  {
   "cell_type": "code",
   "execution_count": 3,
   "id": "025b778a-72a6-4811-a425-2a310b5a1de2",
   "metadata": {},
   "outputs": [
    {
     "data": {
      "text/plain": [
       "0"
      ]
     },
     "execution_count": 3,
     "metadata": {},
     "output_type": "execute_result"
    }
   ],
   "source": [
    "fucks_given = 0"
   ]
  },
  {
   "cell_type": "markdown",
   "id": "bed2888f-ae37-4d1e-902b-67203e66cd14",
   "metadata": {},
   "source": [
    "### La riga precedente serve per creare una <b>variabile</b>."
   ]
  },
  {
   "cell_type": "markdown",
   "id": "d06ab038-cec7-4da6-865d-ceb7b4bc33d8",
   "metadata": {},
   "source": [
    "È più o meno lo stesso concetto che si usa in matematica: scelgo un nome arbitrario (ma, possibilmente, che abbia senso rispetto allo scopo per cui verrà usata la variabile) e gli assegno un determinato valore.  \n",
    "Quindi noi abbiamo creato una variabile chiamata fucks_given e le abbiamo assegnato il valore 0"
   ]
  },
  {
   "cell_type": "code",
   "execution_count": 4,
   "id": "5519c98a-d118-46b4-b531-ed46298437be",
   "metadata": {},
   "outputs": [
    {
     "name": "stdout",
     "output_type": "stream",
     "text": [
      "0\n"
     ]
    }
   ],
   "source": [
    "println(fucks_given)"
   ]
  },
  {
   "cell_type": "markdown",
   "id": "5f75ad8f-83f5-4740-b855-b5c215410d00",
   "metadata": {},
   "source": [
    "### In questa riga abbiamo usato il nostro primo comando, `println`"
   ]
  },
  {
   "cell_type": "markdown",
   "id": "9c894e2f-8a02-4230-ac60-40de378327b5",
   "metadata": {},
   "source": [
    "Questo viene utilizzato, come suggerisce il nome, per stampare quello che viene scritto fra le parentesi (in gergo: il parametro che viene passato).   \n",
    "Capiremo meglio tutto questo andando avanti, per ora limitiamoci a pensare che se vogliamo stampare il risultato di una serie di operazioni, possiamo usare il comando `println`"
   ]
  },
  {
   "cell_type": "code",
   "execution_count": 5,
   "id": "28418677-0ca5-4c20-888e-3a8efae74250",
   "metadata": {},
   "outputs": [
    {
     "data": {
      "text/plain": [
       "3"
      ]
     },
     "execution_count": 5,
     "metadata": {},
     "output_type": "execute_result"
    }
   ],
   "source": [
    "fucks_given = fucks_given + 1\n",
    "fucks_given += 2"
   ]
  },
  {
   "cell_type": "markdown",
   "id": "36617f52-309a-4258-911b-9a71045ae4a1",
   "metadata": {},
   "source": [
    "### Ovviamente, una variabile può essere modificata dopo essere stata creata."
   ]
  },
  {
   "cell_type": "markdown",
   "id": "1e9945f1-3523-42eb-99d1-5d139f988482",
   "metadata": {},
   "source": [
    "In questo caso, la incrementiamo.  \n",
    "Le due righe precedenti sono due modi per incrementare il valore di una variabile; il primo più leggibile (letteralmente: il nuovo valore di fucks_given sarà uguale al precedente valore della stessa fucks_given aumentato di 1) il secondo più veloce (fucks_given diventerà sé stesso incrementato di 2)"
   ]
  },
  {
   "cell_type": "code",
   "execution_count": 6,
   "id": "b4b879ef-6c1a-4fef-92d4-4b099a73d0bc",
   "metadata": {},
   "outputs": [
    {
     "name": "stdout",
     "output_type": "stream",
     "text": [
      "Che vita di merda\n"
     ]
    }
   ],
   "source": [
    "if fucks_given > 0\n",
    "    println(\"Che vita di merda\")\n",
    "end"
   ]
  },
  {
   "cell_type": "markdown",
   "id": "977b68b7-2cbe-4762-92ab-d51d87407f8d",
   "metadata": {},
   "source": [
    "### Qui possiamo quasi leggere \"in inglese\":"
   ]
  },
  {
   "cell_type": "markdown",
   "id": "bc03c2f6-381e-481f-9be6-8eae44f54db9",
   "metadata": {},
   "source": [
    "#### \"Se fucks_given è più grande di zero\", allora chiama `println(\"Che vita di merda\")`"
   ]
  },
  {
   "cell_type": "markdown",
   "id": "7b26fa57-84c4-4d7e-b473-80cd8674ba39",
   "metadata": {},
   "source": [
    "`end` serve per far capire al computer che è finito il <i>blocco</i> di istruzioni da eseguire se la condizione iniziale (`fucks_given > 0`) risulta vera.  \n",
    "Ovviamente, è possibile definire più condizioni alternative e/o una condizione per tutti i casi non specificati esplicitamente:"
   ]
  },
  {
   "cell_type": "code",
   "execution_count": 7,
   "id": "f8129e66-f1cf-42b9-ac30-8503f400e4e9",
   "metadata": {},
   "outputs": [
    {
     "name": "stdout",
     "output_type": "stream",
     "text": [
      "Che vita di merda\n"
     ]
    }
   ],
   "source": [
    "if fucks_given > 0\n",
    "    println(\"Che vita di merda\")\n",
    "elseif fucks_given == 0\n",
    "    println(\"Viviamo infine nello xenocomunismo... o forse siamo solo ricchƏ?\")\n",
    "else\n",
    "    println(\"Siamo ascesə al piano superiore\")\n",
    "end"
   ]
  },
  {
   "cell_type": "markdown",
   "id": "2975559c-8fbd-4cd0-a144-36b03ae61a2f",
   "metadata": {},
   "source": [
    "### Possiamo capirne il senso ragionando come nel caso più semplice di prima:"
   ]
  },
  {
   "cell_type": "markdown",
   "id": "dc972b96-8ae0-4370-9f68-e2342f007f02",
   "metadata": {},
   "source": [
    "- la prima riga e il primo blocco sono gli stessi di prima.  \n",
    "- la seconda condizione, introdotta da `elseif` controlla un caso alternativo al primo e in caso esegue il codice nel rispettivo blocco.  \n",
    "- infine, la terza condizione viene eseguita ogni volta che nessuna delle prime due è verificata."
   ]
  },
  {
   "cell_type": "markdown",
   "id": "8efdf30f-3769-4841-b616-7ccacdc9d29d",
   "metadata": {},
   "source": [
    "### Possiamo leggere il tutto in linguaggio naturale come:"
   ]
  },
  {
   "cell_type": "markdown",
   "id": "cf0b0002-1b3f-4699-abb5-f7ffef2c4600",
   "metadata": {},
   "source": [
    "- <font color='fuchsia'><b>se</b></font> fucks_given è maggiore di zero, <font color='fuchsia'><b>allora</b></font> stampa \"Che vita di merda\", \n",
    "- <font color='fuchsia'><b>invece se</b></font> è uguale a 0, <font color='fuchsia'><b>allora</b></font> stampa \"Viviamo infine nello xenocomunismo... o forse siamo solo ricchƏ?\", \n",
    "- <font color='fuchsia'><b>altrimenti</b></font> stampa \"Siamo ascesə al piano superiore\""
   ]
  },
  {
   "cell_type": "markdown",
   "id": "848f6754-997c-4466-bc30-1565a485edc3",
   "metadata": {},
   "source": [
    "<br>\n",
    "</br>\n",
    "\n",
    "NB: per verificare che fucks_given sia uguale a 0, non abbiamo usato solo `=` ma `==`. Questo perché, logicamente, assegnare una variabile (`=`) e verificare una uguaglianza (`==`) sono due concetti radicalmente diversi, e quindi necessitano di due simboli diversi"
   ]
  },
  {
   "cell_type": "markdown",
   "id": "50d66f56-fc25-4acd-a6b6-bc31a1a05282",
   "metadata": {},
   "source": [
    "### Possiamo verificare questo comportamento cambiando manualmente il valore di `fucks_given`."
   ]
  },
  {
   "cell_type": "markdown",
   "id": "f787f7cb-cd19-4576-adb9-2944f8db6307",
   "metadata": {},
   "source": [
    "Facciamo qualche prova:"
   ]
  },
  {
   "cell_type": "code",
   "execution_count": 9,
   "id": "98af83de-62f8-4d28-933a-76057cf90aa5",
   "metadata": {},
   "outputs": [
    {
     "name": "stdout",
     "output_type": "stream",
     "text": [
      "Viviamo infine nello xenocomunismo... o forse siamo solo ricchƏ?\n"
     ]
    }
   ],
   "source": [
    "fucks_given = 0 # Notiamo nuovamente l'utilizzo di `=` qui...\n",
    "\n",
    "if fucks_given > 0\n",
    "    println(\"Che vita di merda\")\n",
    "elseif fucks_given == 0 # e l'utilizzo di `==` qui\n",
    "    println(\"Viviamo infine nello xenocomunismo... o forse siamo solo ricchƏ?\")\n",
    "else\n",
    "    println(\"Siamo ascesə al piano superiore\")\n",
    "end"
   ]
  },
  {
   "cell_type": "code",
   "execution_count": 10,
   "id": "9a5e7e66-c5f2-4cb4-86ed-46dc1aae7e7a",
   "metadata": {},
   "outputs": [
    {
     "name": "stdout",
     "output_type": "stream",
     "text": [
      "Siamo ascesə al piano superiore\n"
     ]
    }
   ],
   "source": [
    "fucks_given = -1 # Notiamo nuovamente l'utilizzo di `=` qui...\n",
    "\n",
    "if fucks_given > 0\n",
    "    println(\"Che vita di merda\")\n",
    "elseif fucks_given == 0 # e l'utilizzo di `==` qui\n",
    "    println(\"Viviamo infine nello xenocomunismo... o forse siamo solo ricchƏ?\")\n",
    "else\n",
    "    println(\"Siamo ascesə al piano superiore\")\n",
    "end"
   ]
  },
  {
   "cell_type": "markdown",
   "id": "5be73d7f-ae53-4fe9-8e2b-4f60a9362c2a",
   "metadata": {},
   "source": [
    "come previsto, nel primo caso otteniamo `\"Viviamo infine nello xenocomunismo... o forse siamo solo ricchƏ?\"` mentre nel secondo `\"Siamo ascesə al piano superiore\"`"
   ]
  },
  {
   "cell_type": "markdown",
   "id": "38745e89-bd21-4d37-966c-d74f8ff6f4c7",
   "metadata": {},
   "source": [
    "### Re-impostiamo manualmente `fucks_given` a 3 per rimanere coerenti con le condizioni del codice iniziale"
   ]
  },
  {
   "cell_type": "markdown",
   "id": "1f31bfff-e08f-4331-99f4-7864dbc9edbd",
   "metadata": {},
   "source": [
    "(il `;` serve per \"sopprimere\" l'output, ovvero per non farlo stampare)"
   ]
  },
  {
   "cell_type": "code",
   "execution_count": 1,
   "id": "21204891-cdd8-4e7d-8b71-5249bee9379c",
   "metadata": {},
   "outputs": [],
   "source": [
    "fucks_given = 3; "
   ]
  },
  {
   "cell_type": "markdown",
   "id": "113c4a56-abba-4060-94fd-72145a71c86e",
   "metadata": {},
   "source": [
    "### Procediamo:"
   ]
  },
  {
   "cell_type": "code",
   "execution_count": 19,
   "id": "d509de09-b57c-47d7-a056-eb297f7516b7",
   "metadata": {},
   "outputs": [
    {
     "name": "stdout",
     "output_type": "stream",
     "text": [
      "Mannaggia Mannaggia Mannaggia \n"
     ]
    }
   ],
   "source": [
    "curses_amount = \"Mannaggia \" ^ fucks_given\n",
    "println(curses_amount)"
   ]
  },
  {
   "cell_type": "markdown",
   "id": "56cf2c5a-514b-41e7-80b2-a421b6f4bb18",
   "metadata": {},
   "source": [
    "### Il simbolo `^` corrisponde all'operazione di elevanto a potenza:"
   ]
  },
  {
   "cell_type": "code",
   "execution_count": 6,
   "id": "29a22eb1-6003-432a-831b-235e6c6d1472",
   "metadata": {},
   "outputs": [
    {
     "name": "stdout",
     "output_type": "stream",
     "text": [
      "8\n",
      "81\n"
     ]
    }
   ],
   "source": [
    "println(2^3) # due alla terza è uguale a 8\n",
    "println(3^4) # tre alla quarta è uguale a 81"
   ]
  },
  {
   "cell_type": "markdown",
   "id": "00a28cd9-f181-4419-af16-b593c59e8a4c",
   "metadata": {},
   "source": [
    "##### Applicato alle stringhe (ovvero le sequenze di caratteri come, appunto `\"Mannaggia\"`) resistituisce una nuova stringa uguale alla prima \"ripetuta\" un numero di volte parti all'esponente (nel nostro caso `fucks_given`, che è uguale a 3) "
   ]
  },
  {
   "cell_type": "markdown",
   "id": "fef35e43-21d1-4c09-8a31-2eed8729bebe",
   "metadata": {},
   "source": [
    "<br>\n",
    "</br>"
   ]
  },
  {
   "cell_type": "markdown",
   "id": "359fb344-309e-4a31-aad3-f320161c7273",
   "metadata": {},
   "source": [
    "Una piccola nota: nella cella di codice iniziale come in quest'ultima, abbiamo messo `println` per stampare l'ultima istruzione.\n",
    "\n",
    "Questo in realtà non è necessario, infatti se facciamo:"
   ]
  },
  {
   "cell_type": "code",
   "execution_count": 20,
   "id": "dc5eb499-d96c-4a57-aac0-9b4a654bfda1",
   "metadata": {},
   "outputs": [
    {
     "data": {
      "text/plain": [
       "\"Mannaggia Mannaggia Mannaggia \""
      ]
     },
     "execution_count": 20,
     "metadata": {},
     "output_type": "execute_result"
    }
   ],
   "source": [
    "curses_amount = \"Mannaggia \" ^ fucks_given"
   ]
  },
  {
   "cell_type": "markdown",
   "id": "04c748f0-2c22-4e63-b425-709075f1d14c",
   "metadata": {},
   "source": [
    "Otteniamo ugualmente l'output desiderato  \n",
    "Questo non è particolarmente importante, ma siccome fa risparmiare tempo (e io sono pigrə) è possibile che spesso scriverò così e non voglio creare (troppa) confusione."
   ]
  },
  {
   "cell_type": "markdown",
   "id": "34161a1a-a1c5-4867-89cf-15ed604d41f4",
   "metadata": {},
   "source": [
    "### L'ultima cosa ancora da spiegare sono tutte quelle frasi che seguono gli `#` in giro per il nostro codice che non sembrano avere alcun effetto."
   ]
  },
  {
   "cell_type": "markdown",
   "id": "f4c5bdeb-d8ab-4d21-9583-37e7900d5e46",
   "metadata": {},
   "source": [
    "Il carattere `#` simboleggia l'inizio di un <i>commento</i>; lo scopo dei commenti è darci la possibilità di scrivere del testo in mezzo al codice, tendenzialmente per spiegare a cosa servono determinate istruzioni, magari particolarmente importanti ma altrettanto criptiche.  \n",
    "Un altro uso è quello di non far eseguire determinate righe di codice senza però cancellarle. Questo è particolarmente utile quando qualcosa non funziona e non capiamo perché, quindi magari cominciamo a cancellare e rimettere cose palesemente a caso e quindi non possiamo permetterci di cancellare e riscrivere cose (perché altrimenti dopo 2 minuti non ci ricorderemmo più nulla)  "
   ]
  },
  {
   "cell_type": "markdown",
   "id": "74bff346-b311-44fa-a8d5-0304f5bf63ab",
   "metadata": {},
   "source": [
    "# <b>Capitolo 2</b>: cicli (`for`)"
   ]
  },
  {
   "cell_type": "markdown",
   "id": "a362e042-c506-4c87-be2c-b353ce64d229",
   "metadata": {},
   "source": [
    "### Pensiamo al seguente caso: ci viene chiesta la somma dei primi 1000 numeri."
   ]
  },
  {
   "cell_type": "markdown",
   "id": "58ac9346-7497-426b-9d96-87ef5e5e6a51",
   "metadata": {},
   "source": [
    "Siccome la pigrizia è un nostro tratto ancestrale, vogliamo automatizzare la cosa invece che fare noi la catena di operazioni ($1+2+3+4+5+\\cdots$) senza nemmeno perdere tempo a scrivere l'intera somma.  \n",
    "Esiste un modo per dire al computer di eseguire una serie di operazioni ciclicamente? Ovviamente sì: "
   ]
  },
  {
   "cell_type": "code",
   "execution_count": 4,
   "id": "77ec24a9-e4ee-4eec-954c-533fef2a3830",
   "metadata": {},
   "outputs": [
    {
     "data": {
      "text/plain": [
       "500500"
      ]
     },
     "execution_count": 4,
     "metadata": {},
     "output_type": "execute_result"
    }
   ],
   "source": [
    "sum = 0\n",
    "for i=1:1000\n",
    "    sum += i\n",
    "end\n",
    "sum"
   ]
  },
  {
   "cell_type": "markdown",
   "id": "74026289-2cf4-4230-ad8d-01fa9c743a79",
   "metadata": {},
   "source": [
    "### Vediamo i vari pezzi:"
   ]
  },
  {
   "cell_type": "markdown",
   "id": "7820d783-5ad2-4d06-9a26-3939c2d20c89",
   "metadata": {},
   "source": [
    "- `sum = 0`: definiamo una variabile in cui salveremo via via le somme\n",
    "- `for i=1:1000`: diciamo al computer di definire una nuova variabile `i` e la facciamo scorrere via via in tutti i valori che vanno da 1 a 1000 (`1:1000` definisce un <i>range</i> numerico che va, appunto, da 1 a 1000) \n",
    "- `sum += i`: sommiamo, ad ogni iterazione, il valore della variabile `i` (1, 2, 3, ...) a `sum`\n",
    "- Così come per `if`, `for` da inizio ad un blocco di istruzioni che verrà ripetuto ad ogni iterazione, e la fine di tale blocco viene identificato nuovamente alla parola `end`"
   ]
  },
  {
   "cell_type": "markdown",
   "id": "392606ee-392b-48c4-8973-88db8852c8ef",
   "metadata": {},
   "source": [
    "### Abbiamo quindi ottenuto un risultato, `500500`. Come possiamo verificare di aver fatto bene?"
   ]
  },
  {
   "cell_type": "markdown",
   "id": "ae941250-2bc3-4620-80bc-3aeb5c75feb8",
   "metadata": {},
   "source": [
    "#### Fortunatamente, siamo abili matematicə e quindi conosciamo una formula$^*$ che ci permette di calcolare lo stesso risultato:"
   ]
  },
  {
   "cell_type": "markdown",
   "id": "73755df7-a6f0-4f64-a4f9-0020ef0adbc1",
   "metadata": {},
   "source": [
    "$$ \\sum_{i=1}^Ni = N * (N+1) / 2 $$\n",
    "<br> \n",
    "</br>\n",
    "\n",
    "* Per questa formula possiamo ringraziare il buon Gauss, che leggenda vuole l'abbia ideata a soli 9 anni. "
   ]
  },
  {
   "cell_type": "markdown",
   "id": "cbbe73bb-d1c4-463f-9ea8-e8dd3868cb18",
   "metadata": {},
   "source": [
    "### Possiamo facilmente tradurla in codice:"
   ]
  },
  {
   "cell_type": "code",
   "execution_count": 7,
   "id": "f40e9c12-a99b-47ba-804d-33f0d73ff45d",
   "metadata": {},
   "outputs": [
    {
     "data": {
      "text/plain": [
       "500500"
      ]
     },
     "execution_count": 7,
     "metadata": {},
     "output_type": "execute_result"
    }
   ],
   "source": [
    "N = 1000\n",
    "N*(N+1)÷2"
   ]
  },
  {
   "cell_type": "markdown",
   "id": "19bf2e97-8217-42c9-ab23-d1b5e41fb475",
   "metadata": {},
   "source": [
    "#### E con grande giubilo notiamo che è lo stesso risultato ottenuto con la prima soluzione. Vittoria!"
   ]
  },
  {
   "cell_type": "markdown",
   "id": "28465ffa-c77d-4a7c-946e-e7721717c85a",
   "metadata": {},
   "source": [
    "### Abbiamo quindi scoperto come ripetere una serie di operazioni tante volte scrivendo il tutto una sola volta.  \n",
    "#### E se volessimo ripetere le stesse istruzioni, tante volte, su input diversi?"
   ]
  },
  {
   "cell_type": "markdown",
   "id": "e9b79c94-5462-454b-ab96-00e41623f488",
   "metadata": {},
   "source": [
    "# <b>Capitolo 3</b>: funzioni"
   ]
  },
  {
   "cell_type": "markdown",
   "id": "9b2f6332-87a3-4105-953d-42897ea38d1d",
   "metadata": {},
   "source": [
    "### Se adesso ci venisse chiesto di applicare l'algoritmo precedente a tanti N diversi, ovvero di avere la somma dei primi 10, poi 100, poi 1000 e poi 10000 numeri? Dovremmo riscrivere ogni volta un ciclo diverso?\n",
    "#### Come al solito, la pigrizia è la nostra migliore consigliera e quindi abbiamo già una soluzione: le <i>funzioni</i>"
   ]
  },
  {
   "cell_type": "code",
   "execution_count": 8,
   "id": "e60e350d-ce64-405e-a985-f682ed9e6795",
   "metadata": {},
   "outputs": [
    {
     "data": {
      "text/plain": [
       "sum_first_N_numbers_loop (generic function with 1 method)"
      ]
     },
     "execution_count": 8,
     "metadata": {},
     "output_type": "execute_result"
    }
   ],
   "source": [
    "function sum_first_N_numbers(N)\n",
    "    N*(N+1)÷2\n",
    "end\n",
    "\n",
    "function sum_first_N_numbers_loop(N)\n",
    "    sum = 0\n",
    "    for i=1:N\n",
    "        sum += i\n",
    "    end\n",
    "    sum\n",
    "end"
   ]
  },
  {
   "cell_type": "markdown",
   "id": "7a3f9946-2de8-40c9-b209-b9e561f758cf",
   "metadata": {
    "tags": []
   },
   "source": [
    "### Abbiamo appena definito due <i>funzioni</i>"
   ]
  },
  {
   "cell_type": "markdown",
   "id": "28542217-75dc-429f-8ea7-c7729fcf29b7",
   "metadata": {},
   "source": [
    "Entrambe necessiteranno di un <i>parametro</i> (`N`) che utilizzeranno poi per fare il calcolo.  \n",
    "La prima funzione calcolerà la somma dei primi `N` numeri usando la formula di Gauss, mentre la seconda utilizzerà il nostro meccanismo iniziale con il ciclo `for`"
   ]
  },
  {
   "cell_type": "markdown",
   "id": "e6ca1033-a46f-4d4b-93f3-106b929a882a",
   "metadata": {},
   "source": [
    "Vediamo ora come usarle e se otteniamo il risultato ci aspettiamo:"
   ]
  },
  {
   "cell_type": "code",
   "execution_count": 11,
   "id": "3ddba757-1ede-4692-b8b1-0dd34b4be447",
   "metadata": {},
   "outputs": [
    {
     "data": {
      "text/plain": [
       "500500"
      ]
     },
     "execution_count": 11,
     "metadata": {},
     "output_type": "execute_result"
    }
   ],
   "source": [
    "sum_first_N_numbers(1000)"
   ]
  },
  {
   "cell_type": "code",
   "execution_count": 12,
   "id": "07b62e73-e23b-4687-b47c-04be4b33806b",
   "metadata": {},
   "outputs": [
    {
     "data": {
      "text/plain": [
       "500500"
      ]
     },
     "execution_count": 12,
     "metadata": {},
     "output_type": "execute_result"
    }
   ],
   "source": [
    "sum_first_N_numbers_loop(1000)"
   ]
  },
  {
   "cell_type": "markdown",
   "id": "d3591ed6-fa68-457c-bd98-61f3b6518c6f",
   "metadata": {},
   "source": [
    "### Bene, in entrambi i casi otteniamo lo stesso risultato ottenuto in precedenza."
   ]
  },
  {
   "cell_type": "markdown",
   "id": "2bbb0314-a4b4-44f3-8eff-b95142c4f817",
   "metadata": {},
   "source": [
    "Ma cosa sta succedendo? Quando <i>richiamiamo</i> una delle due funzioni, questa prende il parametro che viene passato fra parentesi (nel nostro caso, `1000`) e usa quel numero nel <i>corpo</i> della funzione.  \n",
    "Facciamo il caso specifico della prima funzione: quando chiamiamo `sum_first_N_numbers(1000)`, dobbiamo pensare di definire `N = 1000` e poi entrare nel corpo della prima funzione, ovvero eseguire l'istruzione `N*(N+1)÷2`  \n",
    "Per la seconda funzione, `sum_first_N_numbers_loop`, vale esattamente lo stesso discorso."
   ]
  },
  {
   "cell_type": "markdown",
   "id": "ee8cad77-c33f-46a5-8d6b-28a940dd4a23",
   "metadata": {},
   "source": [
    "#### Quello che possiamo fare, a questo punto, è richiamare le funzioni su diversi valori e ottenere, senza dover riscrivere l'intero codice, il risultato corrispondente:"
   ]
  },
  {
   "cell_type": "code",
   "execution_count": 13,
   "id": "9b63237d-9b3c-4da4-ab2f-e1faa98580ab",
   "metadata": {},
   "outputs": [
    {
     "data": {
      "text/plain": [
       "55"
      ]
     },
     "execution_count": 13,
     "metadata": {},
     "output_type": "execute_result"
    }
   ],
   "source": [
    "sum_first_N_numbers(10)"
   ]
  },
  {
   "cell_type": "code",
   "execution_count": 14,
   "id": "6efc31f9-066e-4f81-8b98-d9ea21cf723c",
   "metadata": {},
   "outputs": [
    {
     "data": {
      "text/plain": [
       "55"
      ]
     },
     "execution_count": 14,
     "metadata": {},
     "output_type": "execute_result"
    }
   ],
   "source": [
    "sum_first_N_numbers_loop(10)"
   ]
  },
  {
   "cell_type": "code",
   "execution_count": 16,
   "id": "1ccbbbdb-bf35-48e6-9796-eca043187949",
   "metadata": {},
   "outputs": [
    {
     "data": {
      "text/plain": [
       "50005000"
      ]
     },
     "execution_count": 16,
     "metadata": {},
     "output_type": "execute_result"
    }
   ],
   "source": [
    "sum_first_N_numbers(10000)"
   ]
  },
  {
   "cell_type": "code",
   "execution_count": 17,
   "id": "c3a46f59-0718-4894-b68f-03206b1d0138",
   "metadata": {},
   "outputs": [
    {
     "data": {
      "text/plain": [
       "50005000"
      ]
     },
     "execution_count": 17,
     "metadata": {},
     "output_type": "execute_result"
    }
   ],
   "source": [
    "sum_first_N_numbers_loop(10000)"
   ]
  },
  {
   "cell_type": "code",
   "execution_count": 18,
   "id": "eee24c90-1ed4-48e7-a502-bee7e3415def",
   "metadata": {},
   "outputs": [
    {
     "data": {
      "text/plain": [
       "93528"
      ]
     },
     "execution_count": 18,
     "metadata": {},
     "output_type": "execute_result"
    }
   ],
   "source": [
    "sum_first_N_numbers(432)"
   ]
  },
  {
   "cell_type": "code",
   "execution_count": 19,
   "id": "bb59c498-0fdf-437d-804b-5cf47d9f1b15",
   "metadata": {},
   "outputs": [
    {
     "data": {
      "text/plain": [
       "93528"
      ]
     },
     "execution_count": 19,
     "metadata": {},
     "output_type": "execute_result"
    }
   ],
   "source": [
    "sum_first_N_numbers(432)"
   ]
  },
  {
   "cell_type": "markdown",
   "id": "bac9302f-6c50-41e9-b662-5f3197cb3d21",
   "metadata": {},
   "source": [
    "### E la nostra pigrizia è stata soddisfatta"
   ]
  },
  {
   "cell_type": "markdown",
   "id": "ad84ccd9-856b-4207-8b10-65470daf6ddc",
   "metadata": {},
   "source": [
    "Ora possiamo riparlare di `println`.\n",
    "`println` altro non è che una funzione, presente di default, che permette di stampare l'argomento passato. \n",
    "A voler essere precisə, in Julia **<font color=\"red\">tutto</font>** è una funzione, ma non staremo qui a parlare di functional programming vs declarative programming e tutte queste pippe per nerdoni. Chi fosse interessatə, può trovare una spiegazione [qui](https://en.wikipedia.org/wiki/Functional_programming)"
   ]
  },
  {
   "cell_type": "markdown",
   "id": "d0d48362-9842-46ad-958c-f6f2104123a0",
   "metadata": {},
   "source": [
    "## E questo conclude la nostra introduzione alla programmazione."
   ]
  },
  {
   "cell_type": "markdown",
   "id": "459fdc05-00ed-41db-881e-6379582a8e62",
   "metadata": {},
   "source": [
    "#### Ci sono molti altri concetti che si serviranno lungo il percorso, ma credo sia meglio introdurli via via quando ci serviranno.  \n",
    "Alla prossima!"
   ]
  }
 ],
 "metadata": {
  "kernelspec": {
   "display_name": "Julia 1.6.0",
   "language": "julia",
   "name": "julia-1.6"
  },
  "language_info": {
   "file_extension": ".jl",
   "mimetype": "application/julia",
   "name": "julia",
   "version": "1.6.0"
  }
 },
 "nbformat": 4,
 "nbformat_minor": 5
}
